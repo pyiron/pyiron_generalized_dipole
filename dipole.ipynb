{
 "cells": [
  {
   "cell_type": "markdown",
   "metadata": {},
   "source": [
    "# Relaxing an Al (1 1 1) surface under an electric field using SPHInX"
   ]
  },
  {
   "cell_type": "markdown",
   "metadata": {},
   "source": [
    "If you make use of this notebook and/or its recipes, please consider citing the following (for which this notebook has been distributed as supporting material):\n",
    "\n",
    "> Christoph Freysoldt, Arpit Mishra, Michael Ashton, and Jörg Neugebauer, *Generalized dipole correction for charged surfaces in the repeated-slab approach*, Phys. Rev. B **102**, 045403\n",
    "\n",
    "The goal of this notebook is to give a very simple example for using the generalized dipole correction (outlined in detail within the above paper) within the [SPHInX](https://sxrepo.mpie.de) DFT program.\n",
    "\n",
    "As one of the simplest use cases, we will add an electric field to both sides of a very thin Al (111) slab and relax the slab. The electric potential in the DFT cell will be plotted at the end of the notebook so you can visualize the generalized dipole correction as it is described in the paper.\n",
    "\n",
    "The calculations and analysis are performed using [pyiron](https://pyiron.org). For more details on specific commands/options in pyiron or SPHInX, please consult their individual documentation and tutorials."
   ]
  },
  {
   "cell_type": "code",
   "execution_count": null,
   "metadata": {},
   "outputs": [],
   "source": [
    "from pyiron import Project\n",
    "\n",
    "import os\n",
    "\n",
    "import numpy as np\n",
    "\n",
    "import matplotlib.pylab as plt"
   ]
  },
  {
   "cell_type": "markdown",
   "metadata": {},
   "source": [
    "### Create the job"
   ]
  },
  {
   "cell_type": "code",
   "execution_count": null,
   "metadata": {
    "tags": []
   },
   "outputs": [],
   "source": [
    "pr = Project(\"ChargedRelax\")\n",
    "job = pr.create_job(\n",
    "    job_type=pr.job_type.Sphinx,\n",
    "    job_name=\"Al_111\"\n",
    ")"
   ]
  },
  {
   "cell_type": "markdown",
   "metadata": {},
   "source": [
    "### Build an Al (1 1 1) surface and assign it to the job"
   ]
  },
  {
   "cell_type": "code",
   "execution_count": null,
   "metadata": {},
   "outputs": [],
   "source": [
    "job.structure = pr.create_surface(\"Al\", \"fcc111\", size=[1,1,4], vacuum=10)\n",
    "job.structure.add_tag(selective_dynamics=(True, True, True))"
   ]
  },
  {
   "cell_type": "code",
   "execution_count": null,
   "metadata": {},
   "outputs": [],
   "source": [
    "job.structure.plot3d()"
   ]
  },
  {
   "cell_type": "markdown",
   "metadata": {},
   "source": [
    "### Freeze the bottom half of the slab"
   ]
  },
  {
   "cell_type": "code",
   "execution_count": null,
   "metadata": {},
   "outputs": [],
   "source": [
    "job.structure.selective_dynamics[\n",
    "    range(len(job.structure)//2)\n",
    "] = (False, False, False)"
   ]
  },
  {
   "cell_type": "markdown",
   "metadata": {},
   "source": [
    "### Set up the DFT input for a basic geometry optimization"
   ]
  },
  {
   "cell_type": "code",
   "execution_count": null,
   "metadata": {},
   "outputs": [],
   "source": [
    "job.calc_minimize()"
   ]
  },
  {
   "cell_type": "markdown",
   "metadata": {},
   "source": [
    "### Modify energy cutoff and k-points for a surface calculation\n",
    "\n",
    "Feel free to use lower settings to get the calculation to run faster on MyBinder, which is a free-to-use server!"
   ]
  },
  {
   "cell_type": "code",
   "execution_count": null,
   "metadata": {},
   "outputs": [],
   "source": [
    "job.set_encut(400)  # in eV\n",
    "job.set_kpoints([9, 9, 1], center_shift=[0.5, 0.5, 0.25])"
   ]
  },
  {
   "cell_type": "markdown",
   "metadata": {},
   "source": [
    "### Charge the bottom layer of atoms\n",
    "In this case, we are targeting a specific field on the right and left sides of the slab (`right_field` and `left_field`, respectively). The following cell calculates the charge required to create this field and then distributes this charge evenly across all \"bottom\" (leftmost) atoms of the slab for the initial density."
   ]
  },
  {
   "cell_type": "code",
   "execution_count": null,
   "metadata": {},
   "outputs": [],
   "source": [
    "HARTREE_TO_EV = 27.2114\n",
    "ANGSTROM_TO_BOHR = 1.8897\n",
    "\n",
    "# atomic units (1 E_h/ea_0 ~= 51.4 V/Å)\n",
    "right_field = 0.05\n",
    "left_field = -0.025\n",
    "\n",
    "cell = job.structure.cell * ANGSTROM_TO_BOHR\n",
    "area = np.linalg.norm(np.cross(cell[0], cell[1]))\n",
    "\n",
    "total_charge = (right_field - left_field) * area / (4 * np.pi) # Eqn. 3 from Freysoldt, et al.\n",
    "\n",
    "positions = [p[2] for p in job.structure.positions]\n",
    "job.input.sphinx.initialGuess.rho[\"charged\"] = {}\n",
    "job.input.sphinx.initialGuess.rho[\"charged\"].update({\"charge\": total_charge, \"z\": min(positions)})"
   ]
  },
  {
   "cell_type": "markdown",
   "metadata": {},
   "source": [
    "### Add the dipole correction to the PAWHamiltonian group\n",
    "\n",
    "The `z_field` parameter in the `PAWHamiltonian` input group controls the \"excess\" field that should remain on the other side of the dipole correction layer, i.e. the field that will exist on the bottom (left) side of the slab."
   ]
  },
  {
   "cell_type": "code",
   "execution_count": null,
   "metadata": {},
   "outputs": [],
   "source": [
    "job.input.sphinx.PAWHamiltonian.nExcessElectrons = -total_charge\n",
    "job.input.sphinx.PAWHamiltonian.dipoleCorrection = True\n",
    "job.input.sphinx.PAWHamiltonian.zField = left_field * HARTREE_TO_EV"
   ]
  },
  {
   "cell_type": "markdown",
   "metadata": {},
   "source": [
    "### Run the job"
   ]
  },
  {
   "cell_type": "code",
   "execution_count": null,
   "metadata": {},
   "outputs": [],
   "source": [
    "job.run(run_again=True)"
   ]
  },
  {
   "cell_type": "markdown",
   "metadata": {},
   "source": [
    "### Plot the electrostatic potential\n",
    "Uncomment the commented lines to plot the expected fields on top of the potential."
   ]
  },
  {
   "cell_type": "code",
   "execution_count": null,
   "metadata": {},
   "outputs": [],
   "source": [
    "v_electrostatic = job.get_electrostatic_potential()\n",
    "planar_avg = v_electrostatic.get_average_along_axis(2)\n",
    "\n",
    "x = np.linspace(0, job.structure.cell[2][2], len(planar_avg))\n",
    "\n",
    "# ind_0 = np.argwhere(x > 9)[0]\n",
    "# ind_dipole = np.argmax((2 * planar_avg - np.roll(planar_avg, 1) - np.roll(planar_avg, -1))[np.abs(x - 12) < 3]) + ind_0\n",
    "# m_dipole = x[ind_dipole+1]\n",
    "\n",
    "# E_right = right_field * 51.4 * (x - m_dipole) + planar_avg[ind_dipole]\n",
    "# E_left = left_field * 51.4 * (x - m_dipole) + planar_avg[ind_dipole + 1]\n",
    "\n",
    "# plt.axvline(m_dipole, color=\"k\")\n",
    "# plt.plot(x, E_right, 'k--')\n",
    "# plt.plot(x, E_left, 'k--')\n",
    "\n",
    "plt.plot(x, planar_avg)\n",
    "plt.xlabel('$z$ [Å]')\n",
    "plt.ylabel('Potential [eV]')\n",
    "plt.show()"
   ]
  },
  {
   "cell_type": "code",
   "execution_count": null,
   "metadata": {},
   "outputs": [],
   "source": []
  }
 ],
 "metadata": {
  "kernelspec": {
   "display_name": "Python 3",
   "language": "python",
   "name": "python3"
  },
  "language_info": {
   "codemirror_mode": {
    "name": "ipython",
    "version": 3
   },
   "file_extension": ".py",
   "mimetype": "text/x-python",
   "name": "python",
   "nbconvert_exporter": "python",
   "pygments_lexer": "ipython3",
   "version": "3.8.3-final"
  }
 },
 "nbformat": 4,
 "nbformat_minor": 4
}