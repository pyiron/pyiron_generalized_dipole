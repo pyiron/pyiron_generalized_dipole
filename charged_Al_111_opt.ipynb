{
 "cells": [
  {
   "cell_type": "markdown",
   "metadata": {},
   "source": [
    "# Relaxing an Al (1 1 1) surface under an electric field using SPHInX"
   ]
  },
  {
   "cell_type": "markdown",
   "metadata": {},
   "source": [
    "If you make use of this notebook and/or its recipes, please cite the following (for which this notebook has been distributed as supporting material)\n",
    "\n",
    "> Christoph Freysoldt, Arpit Mishra, Michael Ashton, and Jörg Neugebauer, _Generalized dipole correction for charged surfaces in the repeated-slab approach_"
   ]
  },
  {
   "cell_type": "markdown",
   "metadata": {},
   "source": [
    "## Installation\n",
    "\n",
    "You will need to install [Pyiron](https://github.com/pyiron/pyiron) and [SPHInX](https://sxrepo.mpie.de/) to run this notebook. Both are available via conda:\n",
    "```\n",
    "conda install -c conda-forge pyiron sphinxdft\n",
    "```\n",
    "\n",
    "If you have already installed pyiron before, check that you have the latest version:\n",
    "```\n",
    "conda upgrade -c conda-forge pyiron\n",
    "```\n",
    "\n",
    "Finally, please be sure to run this notebook from within your pyiron projects directory path."
   ]
  },
  {
   "cell_type": "code",
   "execution_count": 1,
   "metadata": {},
   "outputs": [],
   "source": [
    "# If you have not already configured Pyiron,\n",
    "# uncomment the following lines and run this cell.\n",
    "\n",
    "# import pyiron\n",
    "# pyiron.install()"
   ]
  },
  {
   "cell_type": "code",
   "execution_count": 2,
   "metadata": {},
   "outputs": [],
   "source": [
    "from pyiron import Project\n",
    "import os\n",
    "import numpy as np\n",
    "from scipy.io.netcdf import netcdf_file\n",
    "import matplotlib.pylab as plt"
   ]
  },
  {
   "cell_type": "markdown",
   "metadata": {},
   "source": [
    "### Create the job"
   ]
  },
  {
   "cell_type": "code",
   "execution_count": 3,
   "metadata": {},
   "outputs": [],
   "source": [
    "pr = Project(\"ChargedRelax\")\n",
    "pr.remove(enable=True)\n",
    "job = pr.create_job(pr.job_type.Sphinx, \"Al_111\")"
   ]
  },
  {
   "cell_type": "markdown",
   "metadata": {},
   "source": [
    "### Build an Al (1 1 1) surface and assign it to the job"
   ]
  },
  {
   "cell_type": "code",
   "execution_count": 4,
   "metadata": {},
   "outputs": [],
   "source": [
    "job.structure = pr.create_surface(\"Al\", \"fcc111\", size=[1,1,4], vacuum=10)\n",
    "job.structure.add_tag(selective_dynamics=(True, True, True))\n",
    "# job.structure.plot3d()  # visualize structure if nglview is installed correctly"
   ]
  },
  {
   "cell_type": "markdown",
   "metadata": {},
   "source": [
    "### Freeze the bottom half of the slab"
   ]
  },
  {
   "cell_type": "code",
   "execution_count": 5,
   "metadata": {},
   "outputs": [],
   "source": [
    "job.structure.selective_dynamics[\n",
    "    range(len(job.structure)//2)\n",
    "] = (False, False, False)"
   ]
  },
  {
   "cell_type": "markdown",
   "metadata": {},
   "source": [
    "### Set up the DFT input for a basic geometry optimization"
   ]
  },
  {
   "cell_type": "code",
   "execution_count": 6,
   "metadata": {},
   "outputs": [],
   "source": [
    "job.calc_minimize()"
   ]
  },
  {
   "cell_type": "markdown",
   "metadata": {},
   "source": [
    "### Modify k-points for a surface calculation"
   ]
  },
  {
   "cell_type": "code",
   "execution_count": 7,
   "metadata": {},
   "outputs": [],
   "source": [
    "job.set_kpoints([9, 9, 1], center_shift=[0.5, 0.5, 0.25])"
   ]
  },
  {
   "cell_type": "markdown",
   "metadata": {},
   "source": [
    "### Charge the bottom layer of atoms\n",
    "In this case, we are targeting a specific field on the right and left sides of the slab (`right_field` and `left_field`, respectively). The following cell calculates the charge required to create this field and then distributes this charge evenly across all \"bottom\" (leftmost) atoms of the slab for the initial density."
   ]
  },
  {
   "cell_type": "code",
   "execution_count": 10,
   "metadata": {},
   "outputs": [],
   "source": [
    "HARTREE_TO_EV = 27.2114\n",
    "ANGSTROM_TO_BOHR = 1.8897\n",
    "\n",
    "# atomic units (1 E_h/ea_0 ~= 51.4 V/Å)\n",
    "right_field = 0.05\n",
    "left_field = -0.05\n",
    "\n",
    "cell = job.structure.cell * ANGSTROM_TO_BOHR\n",
    "area = np.linalg.norm(np.cross(cell[0], cell[1]))\n",
    "\n",
    "total_charge = (right_field - left_field) * area / (4 * np.pi) # Eqn. 3 from Freysoldt, et al.\n",
    "\n",
    "positions = job.structure.positions\n",
    "bottom_atoms = [i for i,c in enumerate(positions) if c[2] == positions[0][2]]\n",
    "charged_atom_coords = positions[bottom_atoms]\n",
    "\n",
    "charges = []\n",
    "for c in charged_atom_coords:\n",
    "    charges.append({\n",
    "        \"charge\": total_charge / len(bottom_atoms),\n",
    "        \"coords\": c\n",
    "    })\n",
    "job.input.sphinx.initialGuess.rho.charged = charges"
   ]
  },
  {
   "cell_type": "markdown",
   "metadata": {},
   "source": [
    "### Add the dipole correction to the PAWHamiltonian group"
   ]
  },
  {
   "cell_type": "code",
   "execution_count": 11,
   "metadata": {},
   "outputs": [],
   "source": [
    "job.input.sphinx.PAWHamiltonian.nExcessElectrons = -total_charge\n",
    "job.input.sphinx.PAWHamiltonian.dipoleCorrection = True\n",
    "job.input.sphinx.PAWHamiltonian.zField = left_field * HARTREE_TO_EV"
   ]
  },
  {
   "cell_type": "markdown",
   "metadata": {},
   "source": [
    "### Run the job"
   ]
  },
  {
   "cell_type": "code",
   "execution_count": 12,
   "metadata": {},
   "outputs": [
    {
     "name": "stdout",
     "output_type": "stream",
     "text": [
      "The job Al_111 was saved and received the ID: 5734655\n"
     ]
    }
   ],
   "source": [
    "job.run(run_again=True)"
   ]
  },
  {
   "cell_type": "markdown",
   "metadata": {},
   "source": [
    "### Plot the electrostatic potential\n",
    "Uncomment the commented lines to plot the expected fields on top of the potential."
   ]
  },
  {
   "cell_type": "code",
   "execution_count": 14,
   "metadata": {},
   "outputs": [
    {
     "data": {
      "image/png": "[encoded data removed]",
      "text/plain": [
       "<Figure size 432x288 with 1 Axes>"
      ]
     },
     "metadata": {
      "needs_background": "light"
     },
     "output_type": "display_data"
    }
   ],
   "source": [
    "v_electrostatic = job.get_electrostatic_potential()\n",
    "planar_avg = v_electrostatic.get_average_along_axis(2)\n",
    "\n",
    "x = np.linspace(0, job.structure.cell[2][2], len(planar_avg))\n",
    "\n",
    "# ind_0 = np.argwhere(x > 9)[0]\n",
    "# ind_dipole = np.argmax((2 * planar_avg - np.roll(planar_avg, 1) - np.roll(planar_avg, -1))[np.abs(x - 12) < 3]) + ind_0\n",
    "# m_dipole = x[ind_dipole+1]\n",
    "\n",
    "# E_right = right_field * 51.4 * (x - m_dipole) + planar_avg[ind_dipole]\n",
    "# E_left = left_field * 51.4 * (x - m_dipole) + planar_avg[ind_dipole + 1]\n",
    "\n",
    "# plt.axvline(m_dipole, color=\"k\")\n",
    "# plt.plot(x, E_right, 'k--')\n",
    "# plt.plot(x, E_left, 'k--')\n",
    "\n",
    "plt.plot(x, planar_avg)\n",
    "plt.xlabel('$z$ [Å]')\n",
    "plt.ylabel('Potential [eV]')\n",
    "plt.show()"
   ]
  },
  {
   "cell_type": "code",
   "execution_count": null,
   "metadata": {},
   "outputs": [],
   "source": []
  }
 ],
 "metadata": {
  "kernelspec": {
   "display_name": "Python 3",
   "language": "python",
   "name": "python3"
  },
  "language_info": {
   "codemirror_mode": {
    "name": "ipython",
    "version": 3
   },
   "file_extension": ".py",
   "mimetype": "text/x-python",
   "name": "python",
   "nbconvert_exporter": "python",
   "pygments_lexer": "ipython3",
   "version": "3.7.6"
  }
 },
 "nbformat": 4,
 "nbformat_minor": 4
}
